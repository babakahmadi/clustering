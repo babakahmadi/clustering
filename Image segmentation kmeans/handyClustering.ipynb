{
 "cells": [
  {
   "cell_type": "code",
   "execution_count": 44,
   "metadata": {},
   "outputs": [],
   "source": [
    "import numpy as np\n",
    "import sys\n",
    "from PIL import Image\n",
    "from sklearn import preprocessing\n",
    "from sklearn.metrics.pairwise import euclidean_distances"
   ]
  },
  {
   "cell_type": "markdown",
   "metadata": {},
   "source": [
    "## input parameters"
   ]
  },
  {
   "cell_type": "code",
   "execution_count": 116,
   "metadata": {},
   "outputs": [],
   "source": [
    "iter_size = 5 # number of iterations\n",
    "K = 3 # number of clusters\n",
    "inputName = 'input/8.jpg'\n",
    "resultName = 'result/8-seg.jpg'"
   ]
  },
  {
   "cell_type": "markdown",
   "metadata": {},
   "source": [
    "## open image"
   ]
  },
  {
   "cell_type": "code",
   "execution_count": 117,
   "metadata": {},
   "outputs": [
    {
     "data": {
      "text/plain": [
       "(280, 180)"
      ]
     },
     "execution_count": 117,
     "metadata": {},
     "output_type": "execute_result"
    }
   ],
   "source": [
    "image = Image.open(inputName)\n",
    "W = image.size[0] # width of image\n",
    "H = image.size[1] # height of image\n",
    "W,H"
   ]
  },
  {
   "cell_type": "markdown",
   "metadata": {},
   "source": [
    "## vectorize image data"
   ]
  },
  {
   "cell_type": "code",
   "execution_count": 118,
   "metadata": {},
   "outputs": [],
   "source": [
    "# Initialise data vector with attribute r,g,b,x,y for each pixel\n",
    "# x , y added for near pixels similarity\n",
    "# each pixel would be a sample\n",
    "vector = np.ndarray(shape=(W * H, 5), dtype=float)\n",
    "\n",
    "# Initialise vector that holds which cluster a pixel is currently in\n",
    "labels = np.ndarray(shape=(W * H), dtype=int)\n",
    "\n",
    "# Populate data vector with data from input image\n",
    "# vector has 5 fields: red, green, blue, x coord, y coord\n",
    "for y in range(0, H):\n",
    "    for x in range(0, W):\n",
    "        xy = (x, y)\n",
    "        rgb = image.getpixel(xy)\n",
    "        vector[x+y*W] = rgb[0],rgb[1],rgb[2],x,y\n",
    "\n",
    "# Standarize the values of our features\n",
    "vector_scaled = preprocessing.normalize(vector)"
   ]
  },
  {
   "cell_type": "markdown",
   "metadata": {},
   "source": [
    "## set centers with random intiation"
   ]
  },
  {
   "cell_type": "code",
   "execution_count": 119,
   "metadata": {},
   "outputs": [],
   "source": [
    "minValue = np.amin(vector_scaled)\n",
    "maxValue = np.amax(vector_scaled)\n",
    "\n",
    "centers = np.ndarray(shape=(K,5))\n",
    "for index, center in enumerate(centers):\n",
    "    centers[index] = np.random.uniform(minValue, maxValue, 5)\n"
   ]
  },
  {
   "cell_type": "markdown",
   "metadata": {},
   "source": [
    "## run algorithm"
   ]
  },
  {
   "cell_type": "code",
   "execution_count": 120,
   "metadata": {},
   "outputs": [
    {
     "name": "stdout",
     "output_type": "stream",
     "text": [
      "Centers Iteration num 0 : \n",
      " [[0.54440627 0.54458416 0.54383687 0.18108033 0.20692677]\n",
      " [0.48954623 0.29207569 0.16002083 0.54312436 0.36353725]\n",
      " [0.45919715 0.47687059 0.54698137 0.47507462 0.10802162]]\n",
      "Centers Iteration num 1 : \n",
      " [[0.56381263 0.5610025  0.51117441 0.14247062 0.20763164]\n",
      " [0.46251914 0.18650119 0.09002415 0.61081905 0.40138526]\n",
      " [0.47005156 0.48195199 0.52816268 0.46416673 0.15978554]]\n",
      "Centers Iteration num 2 : \n",
      " [[0.57424621 0.56856149 0.47537892 0.14594747 0.21046701]\n",
      " [0.42236855 0.08943713 0.08336023 0.67673074 0.42413621]\n",
      " [0.47254806 0.48353217 0.52500996 0.45759138 0.17011844]]\n",
      "Centers Iteration num 3 : \n",
      " [[0.57484252 0.56898718 0.47385802 0.145013   0.21075146]\n",
      " [0.42045325 0.08250413 0.08185019 0.68026362 0.42447637]\n",
      " [0.47315129 0.48392161 0.5237619  0.45627525 0.1717928 ]]\n",
      "Centers Iteration num 4 : \n",
      " [[0.57494879 0.56908077 0.47376855 0.14467047 0.21064788]\n",
      " [0.42043767 0.08196622 0.08157594 0.68045766 0.42445965]\n",
      " [0.47323521 0.4839669  0.52355782 0.45601668 0.17217443]]\n"
     ]
    }
   ],
   "source": [
    "for iteration in range(iter_size):\n",
    "    # Set pixels to nearest cluster center\n",
    "    distances = np.sqrt(((vector_scaled - centers[:, np.newaxis])**2).sum(axis=2))\n",
    "    closest = np.argmin(distances, axis=0)\n",
    "\n",
    "    \n",
    "    # Check if a cluster is ever empty, if so append a random datapoint to it\n",
    "    clusterToCheck = np.arange(K)   #contains an array with all clusters\n",
    "\n",
    "    clustersEmpty = np.in1d(clusterToCheck, labels)\n",
    "    #^ [True True False True * n of clusters] False means empty\n",
    "    for index, item in enumerate(clustersEmpty):\n",
    "        if item == False:\n",
    "            labels[np.random.randint(len(labels))] = index\n",
    "    \n",
    "    centers = np.array([vector_scaled[closest==k].mean(axis=0) for k in range(centers.shape[0])])\n",
    "    \n",
    "    print(\"Centers Iteration num\", iteration, \": \\n\", centers)"
   ]
  },
  {
   "cell_type": "markdown",
   "metadata": {},
   "source": [
    "## set the pixels on original image"
   ]
  },
  {
   "cell_type": "code",
   "execution_count": 121,
   "metadata": {},
   "outputs": [],
   "source": [
    "# set the pixels on original image to be that of the pixel's cluster's centroid\n",
    "for index, item in enumerate(closest):\n",
    "    vector[index][0] = int(round(centers[item][0] * 255))\n",
    "    vector[index][1] = int(round(centers[item][1] * 255))\n",
    "    vector[index][2] = int(round(centers[item][2] * 255))"
   ]
  },
  {
   "cell_type": "markdown",
   "metadata": {},
   "source": [
    "## save image"
   ]
  },
  {
   "cell_type": "code",
   "execution_count": 122,
   "metadata": {},
   "outputs": [],
   "source": [
    "image = Image.new(\"RGB\", (W, H))\n",
    "for y in range(H):\n",
    "    for x in range(W):\n",
    "        image.putpixel((x, y), (int(vector[y * W + x][0]), \n",
    "                                int(vector[y * W + x][1]),\n",
    "                                int(vector[y * W + x][2])))\n",
    "image.save(resultName)"
   ]
  },
  {
   "cell_type": "code",
   "execution_count": null,
   "metadata": {},
   "outputs": [],
   "source": []
  }
 ],
 "metadata": {
  "kernelspec": {
   "display_name": "Python 3",
   "language": "python",
   "name": "python3"
  },
  "language_info": {
   "codemirror_mode": {
    "name": "ipython",
    "version": 3
   },
   "file_extension": ".py",
   "mimetype": "text/x-python",
   "name": "python",
   "nbconvert_exporter": "python",
   "pygments_lexer": "ipython3",
   "version": "3.6.6"
  }
 },
 "nbformat": 4,
 "nbformat_minor": 2
}
