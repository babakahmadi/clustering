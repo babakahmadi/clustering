{
 "cells": [
  {
   "cell_type": "code",
   "execution_count": 1,
   "metadata": {},
   "outputs": [],
   "source": [
    "import numpy as np\n",
    "import sys\n",
    "from PIL import Image\n",
    "from sklearn import preprocessing\n",
    "from sklearn.metrics.pairwise import euclidean_distances\n",
    "from sklearn.cluster import KMeans"
   ]
  },
  {
   "cell_type": "code",
   "execution_count": 2,
   "metadata": {},
   "outputs": [],
   "source": [
    "iter_size = 5 # number of iterations\n",
    "K = 3 # number of clusters\n",
    "inputName = 'input/burma.jpg'\n",
    "resultName = 'result/burma-seg2.jpg'"
   ]
  },
  {
   "cell_type": "code",
   "execution_count": 3,
   "metadata": {},
   "outputs": [
    {
     "data": {
      "text/plain": [
       "(300, 199)"
      ]
     },
     "execution_count": 3,
     "metadata": {},
     "output_type": "execute_result"
    }
   ],
   "source": [
    "image = Image.open(inputName)\n",
    "W = image.size[0] # width of image\n",
    "H = image.size[1] # height of image\n",
    "W,H"
   ]
  },
  {
   "cell_type": "code",
   "execution_count": 4,
   "metadata": {},
   "outputs": [],
   "source": [
    "# Initialise data vector with attribute r,g,b,x,y for each pixel\n",
    "# x , y added for near pixels similarity\n",
    "# each pixel would be a sample\n",
    "vector = np.ndarray(shape=(W * H, 5), dtype=float)\n",
    "\n",
    "# Initialise vector that holds which cluster a pixel is currently in\n",
    "pixelClusterNumber = np.ndarray(shape=(W * H), dtype=int)\n",
    "\n",
    "# Populate data vector with data from input image\n",
    "# vector has 5 fields: red, green, blue, x coord, y coord\n",
    "for y in range(0, H):\n",
    "    for x in range(0, W):\n",
    "        xy = (x, y)\n",
    "        rgb = image.getpixel(xy)\n",
    "        vector[x + y * W, 0] = rgb[0]\n",
    "        vector[x + y * W, 1] = rgb[1]\n",
    "        vector[x + y * W, 2] = rgb[2]\n",
    "        vector[x + y * W, 3] = x\n",
    "        vector[x + y * W, 4] = y\n",
    "\n",
    "# Standarize the values of our features\n",
    "vector_scaled = preprocessing.normalize(vector)"
   ]
  },
  {
   "cell_type": "code",
   "execution_count": 5,
   "metadata": {},
   "outputs": [],
   "source": [
    "kmeans = KMeans(n_clusters=K,init='random', max_iter=iter_size).fit(vector_scaled)\n",
    "centers = kmeans.cluster_centers_\n",
    "labels = kmeans.labels_"
   ]
  },
  {
   "cell_type": "code",
   "execution_count": 6,
   "metadata": {},
   "outputs": [],
   "source": [
    "for index, item in enumerate(labels):\n",
    "    vector[index][0] = int(round(centers[item][0] * 255))\n",
    "    vector[index][1] = int(round(centers[item][1] * 255))\n",
    "    vector[index][2] = int(round(centers[item][2] * 255))"
   ]
  },
  {
   "cell_type": "code",
   "execution_count": 7,
   "metadata": {},
   "outputs": [],
   "source": [
    "image = Image.new(\"RGB\", (W, H))\n",
    "for y in range(H):\n",
    "    for x in range(W):\n",
    "        image.putpixel((x, y), (int(vector[y * W + x][0]), \n",
    "                                int(vector[y * W + x][1]),\n",
    "                                int(vector[y * W + x][2])))\n",
    "image.save(resultName)"
   ]
  },
  {
   "cell_type": "code",
   "execution_count": null,
   "metadata": {},
   "outputs": [],
   "source": []
  }
 ],
 "metadata": {
  "kernelspec": {
   "display_name": "Python 3",
   "language": "python",
   "name": "python3"
  },
  "language_info": {
   "codemirror_mode": {
    "name": "ipython",
    "version": 3
   },
   "file_extension": ".py",
   "mimetype": "text/x-python",
   "name": "python",
   "nbconvert_exporter": "python",
   "pygments_lexer": "ipython3",
   "version": "3.6.6"
  }
 },
 "nbformat": 4,
 "nbformat_minor": 2
}
