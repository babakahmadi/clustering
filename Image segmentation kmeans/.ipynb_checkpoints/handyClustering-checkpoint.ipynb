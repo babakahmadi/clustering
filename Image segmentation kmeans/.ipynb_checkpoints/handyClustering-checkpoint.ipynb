{
 "cells": [
  {
   "cell_type": "code",
   "execution_count": 1,
   "metadata": {},
   "outputs": [],
   "source": [
    "import numpy as np\n",
    "import sys\n",
    "from PIL import Image\n",
    "from sklearn import preprocessing\n",
    "from sklearn.metrics.pairwise import euclidean_distances"
   ]
  },
  {
   "cell_type": "markdown",
   "metadata": {},
   "source": [
    "## input parameters"
   ]
  },
  {
   "cell_type": "code",
   "execution_count": 2,
   "metadata": {},
   "outputs": [],
   "source": [
    "iter_size = 5 # number of iterations\n",
    "K = 3 # number of clusters\n",
    "inputName = 'input/burma.jpg'\n",
    "resultName = 'result/burma-seg.jpg'"
   ]
  },
  {
   "cell_type": "markdown",
   "metadata": {},
   "source": [
    "## open image"
   ]
  },
  {
   "cell_type": "code",
   "execution_count": 3,
   "metadata": {},
   "outputs": [
    {
     "data": {
      "text/plain": [
       "(300, 199)"
      ]
     },
     "execution_count": 3,
     "metadata": {},
     "output_type": "execute_result"
    }
   ],
   "source": [
    "image = Image.open(inputName)\n",
    "W = image.size[0] # width of image\n",
    "H = image.size[1] # height of image\n",
    "W,H"
   ]
  },
  {
   "cell_type": "markdown",
   "metadata": {},
   "source": [
    "## vectorize image data"
   ]
  },
  {
   "cell_type": "code",
   "execution_count": 4,
   "metadata": {},
   "outputs": [],
   "source": [
    "# Initialise data vector with attribute r,g,b,x,y for each pixel\n",
    "# x , y added for near pixels similarity\n",
    "# each pixel would be a sample\n",
    "vector = np.ndarray(shape=(W * H, 5), dtype=float)\n",
    "\n",
    "# Initialise vector that holds which cluster a pixel is currently in\n",
    "labels = np.ndarray(shape=(W * H), dtype=int)\n",
    "\n",
    "# Populate data vector with data from input image\n",
    "# vector has 5 fields: red, green, blue, x coord, y coord\n",
    "for y in range(0, H):\n",
    "    for x in range(0, W):\n",
    "        xy = (x, y)\n",
    "        rgb = image.getpixel(xy)\n",
    "        vector[x+y*W] = rgb[0],rgb[1],rgb[2],x,y\n",
    "\n",
    "# Standarize the values of our features\n",
    "vector_scaled = preprocessing.normalize(vector)"
   ]
  },
  {
   "cell_type": "markdown",
   "metadata": {},
   "source": [
    "## set centers with random intiation"
   ]
  },
  {
   "cell_type": "code",
   "execution_count": 5,
   "metadata": {},
   "outputs": [],
   "source": [
    "minValue = np.amin(vector_scaled)\n",
    "maxValue = np.amax(vector_scaled)\n",
    "\n",
    "centers = np.ndarray(shape=(K,5))\n",
    "for index, center in enumerate(centers):\n",
    "    centers[index] = np.random.uniform(minValue, maxValue, 5)\n"
   ]
  },
  {
   "cell_type": "code",
   "execution_count": 6,
   "metadata": {},
   "outputs": [
    {
     "data": {
      "text/plain": [
       "array([0., 0., 0.])"
      ]
     },
     "execution_count": 6,
     "metadata": {},
     "output_type": "execute_result"
    }
   ],
   "source": [
    "np.zeros(K)"
   ]
  },
  {
   "cell_type": "markdown",
   "metadata": {},
   "source": [
    "## run algorithm"
   ]
  },
  {
   "cell_type": "code",
   "execution_count": 7,
   "metadata": {},
   "outputs": [
    {
     "name": "stdout",
     "output_type": "stream",
     "text": [
      "Centers Iteration num 0 : \n",
      " [[0.34234772 0.31888813 0.0917427  0.74904202 0.26981676]\n",
      " [0.24453443 0.33176581 0.32827141 0.48665363 0.4503987 ]\n",
      " [0.2158215  0.41603366 0.59007741 0.63959099 0.06265251]]\n",
      "Centers Iteration num 1 : \n",
      " [[0.18728527 0.21652441 0.06687558 0.83095896 0.3953934 ]\n",
      " [0.27838869 0.30105651 0.24828567 0.40647834 0.64566384]\n",
      " [0.25246399 0.48676183 0.6762672  0.40667286 0.09029532]]\n",
      "Centers Iteration num 2 : \n",
      " [[0.15306786 0.19390145 0.07958516 0.82152718 0.4359952 ]\n",
      " [0.28330758 0.30175661 0.22365777 0.37317236 0.68524383]\n",
      " [0.28932374 0.48795628 0.65047247 0.3978906  0.1257928 ]]\n",
      "Centers Iteration num 3 : \n",
      " [[0.15145832 0.19425883 0.0886118  0.81045423 0.44939863]\n",
      " [0.27516157 0.29379023 0.20320463 0.35050379 0.716177  ]\n",
      " [0.30313258 0.48563717 0.63495406 0.39910364 0.14546686]]\n",
      "Centers Iteration num 4 : \n",
      " [[0.1580877  0.19974819 0.09508757 0.80272737 0.45269062]\n",
      " [0.25943625 0.28264886 0.1892551  0.32852721 0.7466041 ]\n",
      " [0.31111851 0.48355579 0.62396156 0.40192706 0.15688844]]\n"
     ]
    }
   ],
   "source": [
    "for iteration in range(iter_size):\n",
    "    # Set pixels to nearest cluster center\n",
    "    distances = np.sqrt(((vector_scaled - centers[:, np.newaxis])**2).sum(axis=2))\n",
    "    closest = np.argmin(distances, axis=0)\n",
    "\n",
    "    \n",
    "    # Check if a cluster is ever empty, if so append a random datapoint to it\n",
    "    clusterToCheck = np.arange(K)   #contains an array with all clusters\n",
    "\n",
    "    clustersEmpty = np.in1d(clusterToCheck, labels)\n",
    "    #^ [True True False True * n of clusters] False means empty\n",
    "    for index, item in enumerate(clustersEmpty):\n",
    "        if item == False:\n",
    "            labels[np.random.randint(len(labels))] = index\n",
    "    \n",
    "    centers = np.array([vector_scaled[closest==k].mean(axis=0) for k in range(centers.shape[0])])\n",
    "    \n",
    "    print(\"Centers Iteration num\", iteration, \": \\n\", centers)"
   ]
  },
  {
   "cell_type": "markdown",
   "metadata": {},
   "source": [
    "## set the pixels on original image"
   ]
  },
  {
   "cell_type": "code",
   "execution_count": 8,
   "metadata": {},
   "outputs": [],
   "source": [
    "# set the pixels on original image to be that of the pixel's cluster's centroid\n",
    "for index, item in enumerate(closest):\n",
    "    vector[index][0] = int(round(centers[item][0] * 255))\n",
    "    vector[index][1] = int(round(centers[item][1] * 255))\n",
    "    vector[index][2] = int(round(centers[item][2] * 255))"
   ]
  },
  {
   "cell_type": "markdown",
   "metadata": {},
   "source": [
    "## save image"
   ]
  },
  {
   "cell_type": "code",
   "execution_count": 9,
   "metadata": {},
   "outputs": [],
   "source": [
    "image = Image.new(\"RGB\", (W, H))\n",
    "for y in range(H):\n",
    "    for x in range(W):\n",
    "        image.putpixel((x, y), (int(vector[y * W + x][0]), \n",
    "                                int(vector[y * W + x][1]),\n",
    "                                int(vector[y * W + x][2])))\n",
    "image.save(resultName)"
   ]
  },
  {
   "cell_type": "code",
   "execution_count": null,
   "metadata": {},
   "outputs": [],
   "source": []
  }
 ],
 "metadata": {
  "kernelspec": {
   "display_name": "Python 3",
   "language": "python",
   "name": "python3"
  },
  "language_info": {
   "codemirror_mode": {
    "name": "ipython",
    "version": 3
   },
   "file_extension": ".py",
   "mimetype": "text/x-python",
   "name": "python",
   "nbconvert_exporter": "python",
   "pygments_lexer": "ipython3",
   "version": "3.6.6"
  }
 },
 "nbformat": 4,
 "nbformat_minor": 2
}
