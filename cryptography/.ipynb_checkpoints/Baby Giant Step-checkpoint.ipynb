{
 "cells": [
  {
   "cell_type": "code",
   "execution_count": 1,
   "metadata": {},
   "outputs": [],
   "source": [
    "from ECC import ECC \n",
    "import math\n",
    "import random\n",
    "\n",
    "ecc = ECC(\n",
    "    p=10177,\n",
    "    a=1,\n",
    "    b=-1,\n",
    "    g=(1, 1),\n",
    "    n=10331,\n",
    ")"
   ]
  },
  {
   "cell_type": "code",
   "execution_count": 2,
   "metadata": {},
   "outputs": [
    {
     "name": "stdout",
     "output_type": "stream",
     "text": [
      "ecc: y^2 = (x^3 + 1x - 1) mod 10177\n",
      "ecc order: 10331\n",
      "p = (0x1, 0x1)\n",
      "q = (0x1a06, 0x22ae)\n",
      "5139 * p = q\n",
      "log(p, q) = 5139\n",
      "Took 152 steps\n"
     ]
    }
   ],
   "source": [
    "def log(p, q):\n",
    "    assert ecc.is_on_curve(p)\n",
    "    assert ecc.is_on_curve(q)\n",
    "\n",
    "    sqrt_n = int(math.sqrt(ecc.n)) + 1\n",
    "\n",
    "    # Compute the baby steps and store them in the 'precomputed' hash table.\n",
    "    r = None\n",
    "    precomputed = {None: 0}\n",
    "\n",
    "    for a in range(1, sqrt_n):\n",
    "        if r == p:\n",
    "            r = ecc.double(r)\n",
    "        else:\n",
    "            r = ecc.add(r, p)\n",
    "        precomputed[r] = a\n",
    "\n",
    "    # Now compute the giant steps and check the hash table for any\n",
    "    # matching point.\n",
    "    r = q\n",
    "    s = ecc.mul(sqrt_n, ecc.neg(p))\n",
    "\n",
    "    for b in range(sqrt_n):\n",
    "        try:\n",
    "            a = precomputed[r]\n",
    "        except KeyError:\n",
    "            pass\n",
    "        else:\n",
    "            steps = sqrt_n + b\n",
    "            logarithm = a + sqrt_n * b\n",
    "            return logarithm, steps\n",
    "\n",
    "        r = ecc.add(r, s)\n",
    "\n",
    "    raise AssertionError('logarithm not found')\n",
    "\n",
    "\n",
    "x = random.randrange(1, ecc.n)\n",
    "p = ecc.g\n",
    "q = ecc.mul(x, p)\n",
    "\n",
    "print('ecc: {}'.format(ecc))\n",
    "print('ecc order: {}'.format(ecc.n))\n",
    "print('p = (0x{:x}, 0x{:x})'.format(*p))\n",
    "print('q = (0x{:x}, 0x{:x})'.format(*q))\n",
    "print(x, '* p = q')\n",
    "\n",
    "y, steps = log(p, q)\n",
    "print('log(p, q) =', y)\n",
    "print('Took', steps, 'steps')\n",
    "\n",
    "assert x == y\n"
   ]
  },
  {
   "cell_type": "code",
   "execution_count": null,
   "metadata": {},
   "outputs": [],
   "source": []
  },
  {
   "cell_type": "code",
   "execution_count": null,
   "metadata": {},
   "outputs": [],
   "source": []
  }
 ],
 "metadata": {
  "kernelspec": {
   "display_name": "Python 3",
   "language": "python",
   "name": "python3"
  },
  "language_info": {
   "codemirror_mode": {
    "name": "ipython",
    "version": 3
   },
   "file_extension": ".py",
   "mimetype": "text/x-python",
   "name": "python",
   "nbconvert_exporter": "python",
   "pygments_lexer": "ipython3",
   "version": "3.7.3"
  }
 },
 "nbformat": 4,
 "nbformat_minor": 2
}
